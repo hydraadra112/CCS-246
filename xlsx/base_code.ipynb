{
 "cells": [
  {
   "cell_type": "code",
   "execution_count": null,
   "metadata": {},
   "outputs": [],
   "source": [
    "import pandas as pd\n",
    "import numpy as np\n",
    "from math import sqrt\n",
    "from collections import Counter\n",
    "from sklearn.metrics import accuracy_score, classification_report, confusion_matrix\n",
    "import matplotlib.pyplot as plt"
   ]
  },
  {
   "cell_type": "code",
   "execution_count": null,
   "metadata": {},
   "outputs": [],
   "source": [
    "\n",
    "filename = 'data'\n",
    "file_extensions = {'xlsx': pd.read_excel, 'csv':pd.read_csv, 'xls':pd.read_excel}\n",
    "df = None\n",
    "\n",
    "for ext, func in file_extensions.items():\n",
    "    try:\n",
    "        df = func(f'{filename}.{ext}')\n",
    "        break\n",
    "    except FileNotFoundError:\n",
    "        continue\n",
    "\n",
    "# Original : df = pd.read_csv ('data.csv')"
   ]
  },
  {
   "cell_type": "code",
   "execution_count": null,
   "metadata": {},
   "outputs": [],
   "source": [
    "df[0:5]"
   ]
  },
  {
   "cell_type": "code",
   "execution_count": null,
   "metadata": {},
   "outputs": [],
   "source": [
    "df"
   ]
  },
  {
   "cell_type": "code",
   "execution_count": null,
   "metadata": {},
   "outputs": [],
   "source": [
    "#Set values to numerical categorical\n",
    "\n",
    "\n",
    "# NY Garden = 1\n",
    "df.loc [0,['Name']] = [1]\n",
    "\n",
    "# Brooklyn Garden = 2\n",
    "df.loc [1,['Name']] = [2]\n",
    "\n",
    "# Queens Gardern = 3\n",
    "df.loc [2,['Name']] = [3]\n",
    "\n",
    "# Snug Garden = 4\n",
    "df.loc [3,['Name']] = [4]\n",
    "\n",
    "\"\"\"\n",
    "# Original \n",
    "#Iris-Setosa = 1\n",
    "df.loc [22:33,['Class']] = [1]\n",
    "\n",
    "#Iris-Versicolor = 2\n",
    "df.loc [0:21,['Class']] = [2]\n",
    "\n",
    "#Iris-Virginica = 3\n",
    "df.loc [34:48,['Class']] = [3]\n",
    "\"\"\"\n",
    "\n",
    "df"
   ]
  },
  {
   "cell_type": "code",
   "execution_count": null,
   "metadata": {},
   "outputs": [],
   "source": [
    "#Rename Columns\n",
    "\n",
    "df.rename(columns= {'LATITUDE': 'LT'}, inplace= True)\n",
    "df.rename(columns= {'LONGITUDE': 'LO'}, inplace= True)\n",
    "df.rename(columns= {'My Latitude': 'm_LT'}, inplace= True)\n",
    "df.rename(columns= {'My Longitude': 'm_LO'}, inplace= True)\n",
    "df.rename(columns= {'NAME': 'Garden Name'}, inplace= True)\n"
   ]
  },
  {
   "cell_type": "code",
   "execution_count": null,
   "metadata": {},
   "outputs": [],
   "source": [
    "df[0:72]"
   ]
  },
  {
   "cell_type": "code",
   "execution_count": null,
   "metadata": {},
   "outputs": [],
   "source": [
    "#Re-arrange the columns:\n",
    "\n",
    "df = df[['Garden Name', 'LT','LO','m_LT','m_LO']]"
   ]
  },
  {
   "cell_type": "code",
   "execution_count": null,
   "metadata": {},
   "outputs": [],
   "source": [
    "df[:72]"
   ]
  },
  {
   "cell_type": "code",
   "execution_count": null,
   "metadata": {},
   "outputs": [],
   "source": [
    "#Data Splitting\n",
    "train = df.iloc[0:36] # NY and BRK for training\n",
    "test = df.iloc[37:72] # Q and SNG for test\n",
    "\n",
    "# train = 0:36\n",
    "# test = 37:71\n",
    "# for data1"
   ]
  },
  {
   "cell_type": "code",
   "execution_count": null,
   "metadata": {},
   "outputs": [],
   "source": [
    "def euclidean_distance(row1, row2, columns, label):\n",
    "    distance = 0.0\n",
    "\n",
    "    for column in columns:\n",
    "        #Only euclidean distance for features is calculated\n",
    "        if column != label:\n",
    "            distance += (row1[column] - row2[column])**2\n",
    "\n",
    "    return sqrt(distance)\n"
   ]
  },
  {
   "cell_type": "code",
   "execution_count": null,
   "metadata": {},
   "outputs": [],
   "source": [
    "\n",
    "def manhattan_distance(row1, row2, columns, label):\n",
    "    distance = 0.0\n",
    "\n",
    "    for column in columns:\n",
    "        if column != label:\n",
    "            distance += abs(row1[column] - row2[column])\n",
    "\n",
    "    return distance\n"
   ]
  },
  {
   "cell_type": "code",
   "execution_count": null,
   "metadata": {},
   "outputs": [],
   "source": [
    "\n",
    "def minkowski_distance(row1, row2, columns, label, p):\n",
    "\n",
    "    distance = 0\n",
    "\n",
    "    for column in columns:\n",
    "        if column != label:\n",
    "            distance += abs(row1[column] - row2[column]) ** p\n",
    "\n",
    "    return distance ** (1 / p)\n"
   ]
  },
  {
   "cell_type": "code",
   "execution_count": null,
   "metadata": {},
   "outputs": [],
   "source": [
    "def KNN(train, test_row, k, label):\n",
    "    temp = train.copy()\n",
    "\n",
    "    #Calculate distance for each instance in train to single test instance\n",
    "    temp['dist'] = temp.apply(lambda row: euclidean_distance(row, test_row, train.columns, label), axis=1)\n",
    "\n",
    "    # Manhattan distance\n",
    "    # temp['dist'] = temp.apply(lambda row: manhattan_distance(row, test_row, train.columns, label), axis=1)\n",
    "    \n",
    "    # Minkowski distance\n",
    "    # temp['dist'] = temp.apply(lambda row: minkowski_distance(row, test_row, train.columns, label, 2), axis=1)\n",
    "\n",
    "    #Getting the k neighbors having minimum distances\n",
    "    sorted_distances = temp['dist'].sort_values()\n",
    "    k_neighbors_distances = sorted_distances [:k]\n",
    "    \n",
    "\n",
    "    #Getting the majority label from the k neighbors\n",
    "    k_neighbors = temp[temp.index.isin(k_neighbors_distances.index)]\n",
    "    k_neighbors_labels = list(k_neighbors[label])\n",
    "    count_labels = Counter(k_neighbors_labels)\n",
    "    predicted_label = count_labels.most_common()[0][0]\n",
    "    return predicted_label"
   ]
  },
  {
   "cell_type": "code",
   "execution_count": null,
   "metadata": {},
   "outputs": [],
   "source": [
    "#Varrying K\n",
    "\n",
    "pred = []\n",
    "actual = []\n",
    "scores = []\n",
    "\n",
    "#For Checking Values\n",
    "pred_values = []\n",
    "actual_values = []\n",
    "\n",
    "for k in range (1,3):\n",
    "    for i in range (test.shape[0]):\n",
    "        pred.append( KNN(train=df, test_row=test.iloc[i], k=k, label = 'Garden Name')) #.iloc is the index locator,\n",
    "        actual.append(test.iloc[i, 0]) #Get 0 column of i row, 0 column is the '_species_type'\n",
    "        scores.append(accuracy_score(actual, pred))\n",
    "\n",
    "        pred_values.append(KNN(train=df, test_row=test.iloc[i], k=k, label = 'Garden Name'))\n",
    "        actual_values.append(test.iloc[i, 0])\n",
    "\n",
    "    pred = []\n",
    "    actual = []"
   ]
  },
  {
   "cell_type": "code",
   "execution_count": null,
   "metadata": {},
   "outputs": [],
   "source": [
    "print(scores)"
   ]
  },
  {
   "cell_type": "code",
   "execution_count": null,
   "metadata": {},
   "outputs": [],
   "source": [
    "print('Mean Accuracy: %.2f%%' % (sum(scores)/float(len(scores))))"
   ]
  },
  {
   "cell_type": "code",
   "execution_count": null,
   "metadata": {},
   "outputs": [],
   "source": [
    "plt.plot(scores)\n",
    "plt.title('Accuracy score of different k neighbors')\n",
    "plt.xlabel('k neighbors')\n",
    "plt.ylabel('accuracy score')"
   ]
  }
 ],
 "metadata": {
  "kernelspec": {
   "display_name": "Python 3",
   "language": "python",
   "name": "python3"
  },
  "language_info": {
   "codemirror_mode": {
    "name": "ipython",
    "version": 3
   },
   "file_extension": ".py",
   "mimetype": "text/x-python",
   "name": "python",
   "nbconvert_exporter": "python",
   "pygments_lexer": "ipython3",
   "version": "3.11.1"
  },
  "orig_nbformat": 4
 },
 "nbformat": 4,
 "nbformat_minor": 2
}
