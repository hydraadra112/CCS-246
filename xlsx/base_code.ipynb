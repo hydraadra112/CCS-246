{
 "cells": [
  {
   "cell_type": "code",
   "execution_count": null,
   "metadata": {},
   "outputs": [],
   "source": [
    "import pandas as pd\n",
    "import numpy as np\n",
    "from math import sqrt\n",
    "from collections import Counter\n",
    "from sklearn.metrics import accuracy_score, classification_report, confusion_matrix\n",
    "import matplotlib.pyplot as plt"
   ]
  },
  {
   "cell_type": "code",
   "execution_count": null,
   "metadata": {},
   "outputs": [],
   "source": [
    "df = pd.read_csv ('data.csv')"
   ]
  },
  {
   "cell_type": "code",
   "execution_count": null,
   "metadata": {},
   "outputs": [],
   "source": [
    "df[0:5]"
   ]
  },
  {
   "cell_type": "code",
   "execution_count": null,
   "metadata": {},
   "outputs": [],
   "source": [
    "df"
   ]
  },
  {
   "cell_type": "code",
   "execution_count": null,
   "metadata": {},
   "outputs": [],
   "source": [
    "#Set values to numerical categorical\n",
    "\n",
    "#Iris-Setosa = 1\n",
    "df.loc [22:33,['Class']] = [1]\n",
    "\n",
    "#Iris-Versicolor = 2\n",
    "df.loc [0:21,['Class']] = [2]\n",
    "\n",
    "#Iris-Virginica = 3\n",
    "df.loc [34:48,['Class']] = [3]"
   ]
  },
  {
   "cell_type": "code",
   "execution_count": null,
   "metadata": {},
   "outputs": [],
   "source": [
    "#Rename Columns\n",
    "\n",
    "df.rename(columns= {'Sepal Length (cm)': 'sepal_len'}, inplace= True)\n",
    "df.rename(columns= {'Sepal Width (cm)': 'sepal_wid'}, inplace= True)\n",
    "df.rename(columns= {'Petal Length (cm)': 'petal_len'}, inplace= True)\n",
    "df.rename(columns= {'Petal Width (cm)': 'petal_wid'}, inplace= True)\n",
    "df.rename(columns= {'Class': '_species_type'}, inplace= True)\n"
   ]
  },
  {
   "cell_type": "code",
   "execution_count": null,
   "metadata": {},
   "outputs": [],
   "source": [
    "df[0:5]"
   ]
  },
  {
   "cell_type": "code",
   "execution_count": null,
   "metadata": {},
   "outputs": [],
   "source": [
    "#Re-arrange the columns:\n",
    "\n",
    "df = df[['_species_type', 'sepal_len','sepal_wid','petal_len','petal_wid']]"
   ]
  },
  {
   "cell_type": "code",
   "execution_count": null,
   "metadata": {},
   "outputs": [],
   "source": [
    "df"
   ]
  },
  {
   "cell_type": "code",
   "execution_count": null,
   "metadata": {},
   "outputs": [],
   "source": [
    "#Data Splitting\n",
    "train = df.iloc[0:30] #start from 0 and before 30 (29)\n",
    "test = df.iloc[20:30] #start from 20 and before 30 (29)"
   ]
  },
  {
   "cell_type": "code",
   "execution_count": null,
   "metadata": {},
   "outputs": [],
   "source": [
    "def euclidean_distance(row1, row2, columns, label):\n",
    "    distance = 0.0\n",
    "\n",
    "    for column in columns:\n",
    "        #Only euclidean distance for features is calculated\n",
    "        if column != label:\n",
    "            distance += (row1[column] - row2[column])**2\n",
    "\n",
    "    return sqrt(distance)\n",
    "\n",
    "def manhattan_distance(row1, row2, columns, label):\n",
    "    distance = 0.0\n",
    "\n",
    "    for column in columns:\n",
    "        if column != label:\n",
    "            distance += abs(row1[column] - row2[column])\n",
    "\n",
    "    return distance\n",
    "\n",
    "def minkowski_distance(point1, point2, p):\n",
    "    if len(point1) != len(point2):\n",
    "        raise ValueError(\"Points must have the same number of elements/dimensions\")\n",
    "\n",
    "    if p <= 0:\n",
    "        raise ValueError(\"Parameter p must be greater than 0\")\n",
    "\n",
    "    distance = 0\n",
    "    n = len(point1)\n",
    "\n",
    "    for i in range(n):\n",
    "        distance += abs(point1[i] - point2[i]) ** p\n",
    "\n",
    "    return distance ** (1 / p)\n"
   ]
  },
  {
   "cell_type": "code",
   "execution_count": null,
   "metadata": {},
   "outputs": [],
   "source": [
    "def KNN(train, test_row, k, label):\n",
    "    temp = train.copy()\n",
    "\n",
    "    #Calculate distance for each instance in train to single test instance\n",
    "    # temp['dist'] = temp.apply(lambda row: euclidean_distance(row, test_row, train.columns, label), axis=1)\n",
    "\n",
    "    # Manhattan distance\n",
    "    temp['dist'] = temp.apply(lambda row: manhattan_distance(row, test_row, train.columns, label), axis=1)\n",
    "\n",
    "    #Getting the k neighbors having minimum distances\n",
    "    sorted_distances = temp['dist'].sort_values()\n",
    "    k_neighbors_distances = sorted_distances [:k]\n",
    "    \n",
    "\n",
    "    #Getting the majority label from the k neighbors\n",
    "    k_neighbors = temp[temp.index.isin(k_neighbors_distances.index)]\n",
    "    k_neighbors_labels = list(k_neighbors[label])\n",
    "    count_labels = Counter(k_neighbors_labels)\n",
    "    predicted_label = count_labels.most_common()[0][0]\n",
    "    return predicted_label"
   ]
  },
  {
   "cell_type": "code",
   "execution_count": null,
   "metadata": {},
   "outputs": [],
   "source": [
    "#Varrying K\n",
    "\n",
    "pred = []\n",
    "actual = []\n",
    "scores = []\n",
    "\n",
    "#For Checking Values\n",
    "pred_values = []\n",
    "actual_values = []\n",
    "\n",
    "for k in range (1,3):\n",
    "    for i in range (test.shape[0]):\n",
    "        pred.append( KNN(train=df, test_row=test.iloc[i], k=k, label = '_species_type')) #.iloc is the index locator,\n",
    "        actual.append(test.iloc[i, 0]) #Get 0 column of i row, 0 column is the '_species_type'\n",
    "        scores.append(accuracy_score(actual, pred))\n",
    "\n",
    "        pred_values.append(KNN(train=df, test_row=test.iloc[i], k=k, label = '_species_type'))\n",
    "        actual_values.append(test.iloc[i, 0])\n",
    "\n",
    "        pred = []\n",
    "        actual = []"
   ]
  },
  {
   "cell_type": "code",
   "execution_count": null,
   "metadata": {},
   "outputs": [],
   "source": [
    "print(scores)"
   ]
  },
  {
   "cell_type": "code",
   "execution_count": null,
   "metadata": {},
   "outputs": [],
   "source": [
    "print('Mean Accuracy: %.2f%%' % (sum(scores)/float(len(scores))))"
   ]
  },
  {
   "cell_type": "code",
   "execution_count": null,
   "metadata": {},
   "outputs": [],
   "source": [
    "plt.plot(scores)\n",
    "plt.title('Accuracy score of different k neighbors')\n",
    "plt.xlabel('k neighbors')\n",
    "plt.ylabel('accuracy score')"
   ]
  }
 ],
 "metadata": {
  "kernelspec": {
   "display_name": "Python 3",
   "language": "python",
   "name": "python3"
  },
  "language_info": {
   "codemirror_mode": {
    "name": "ipython",
    "version": 3
   },
   "file_extension": ".py",
   "mimetype": "text/x-python",
   "name": "python",
   "nbconvert_exporter": "python",
   "pygments_lexer": "ipython3",
   "version": "3.11.1"
  },
  "orig_nbformat": 4
 },
 "nbformat": 4,
 "nbformat_minor": 2
}
